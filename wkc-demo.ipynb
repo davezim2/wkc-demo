{
 "cells": [
  {
   "cell_type": "markdown",
   "metadata": {
    "id": "c713806f-3aa9-4c7e-9e73-c6657c82b502"
   },
   "source": [
    "### Import necessary libraries"
   ]
  },
  {
   "cell_type": "code",
   "execution_count": 1,
   "metadata": {
    "id": "1de802b0-5fc5-477a-b15c-4ca53cb121bc",
    "scrolled": true
   },
   "outputs": [],
   "source": [
    "import warnings\n",
    "warnings.simplefilter(action='ignore', category=FutureWarning)\n",
    "import pandas as pd\n",
    "import requests\n",
    "import json\n",
    "import urllib3\n",
    "urllib3.disable_warnings()"
   ]
  },
  {
   "cell_type": "markdown",
   "metadata": {
    "id": "637e6974-6b29-4c3b-9e8e-486372bf5e88"
   },
   "source": [
    "### Authenticate and Store Token for User"
   ]
  },
  {
   "cell_type": "code",
   "execution_count": 2,
   "metadata": {
    "id": "829b78d8-05aa-4856-9576-a38ab4930e86",
    "scrolled": false
   },
   "outputs": [
    {
     "name": "stdout",
     "output_type": "stream",
     "text": [
      "eyJhbGciOiJSUzI1NiIsInR5cCI6IkpXVCIsImtpZCI6IlhIckxqYnNiNUJtNnRGOXhMajRGRnllTy1ad29YS0Q2aTFrOGlDQ0ZtRG8ifQ.eyJ1c2VybmFtZSI6ImFkbWluIiwicm9sZSI6IkFkbWluIiwicGVybWlzc2lvbnMiOlsiYWRtaW5pc3RyYXRvciIsImNhbl9wcm92aXNpb24iLCJtYW5hZ2VfY2F0YWxvZyIsImNyZWF0ZV9wcm9qZWN0IiwiY3JlYXRlX3NwYWNlIiwiYXV0aG9yX2dvdmVybmFuY2VfYXJ0aWZhY3RzIiwibWFuYWdlX2dvdmVybmFuY2Vfd29ya2Zsb3ciLCJ2aWV3X2dvdmVybmFuY2VfYXJ0aWZhY3RzIiwibWFuYWdlX2NhdGVnb3JpZXMiLCJtYW5hZ2VfZ2xvc3NhcnkiLCJtYW5hZ2VfcXVhbGl0eSIsIm1hbmFnZV9pbmZvcm1hdGlvbl9hc3NldHMiLCJtYW5hZ2VfZGlzY292ZXJ5IiwibWFuYWdlX21ldGFkYXRhX2ltcG9ydCIsImFjY2Vzc19jYXRhbG9nIiwidmlld19xdWFsaXR5IiwiYWNjZXNzX2luZm9ybWF0aW9uX2Fzc2V0cyIsImFjY2Vzc19hZHZhbmNlZF9nb3Zlcm5hbmNlX2NhcGFiaWxpdGllcyIsImFjY2Vzc19hZHZhbmNlZF9tYXBwaW5nX2NhcGFiaWxpdGllcyIsIm1hbmFnZV9wcm9qZWN0IiwibW9uaXRvcl9wcm9qZWN0IiwibWFuYWdlX3JlcG9ydGluZyIsInNpZ25faW5fb25seSJdLCJncm91cHMiOlsxMDAwMF0sInN1YiI6ImFkbWluIiwiaXNzIjoiS05PWFNTTyIsImF1ZCI6IkRTWCIsInVpZCI6IjEwMDAzMzA5OTkiLCJhdXRoZW50aWNhdG9yIjoiZGVmYXVsdCIsImRpc3BsYXlfbmFtZSI6ImFkbWluIiwiaWF0IjoxNjU5MDQ5NzYwLCJleHAiOjE2NTkwOTI5MjR9.lI-fb4VhUb-BGOMa-0p6iRlj0nszXTbUBw6t3i5ucQ-58OExnuJS1dZAmLhHZaY2zCQUoIb_mMcRCck2DXQCw5MGHsDAld21rj46aPL8r08m4TzigrzWv5TtbUgvJ8gE3ZMrySMw0cIEYBre6-ogx_UwocpNpFoWMo0MMZ37tjIUzTEIThUpkwekROR8lS-B36qaUmjdxoWebFUc-p92VDlP5CfEBwHzjHl-8zFVDB_bKAIp972xup6c7YfsxVlIgHQyw1eASAJdUY8WQL1Xmq5vCxFbKefTyvBw4kJtz1-zHiTv4CZcNwTgOLiu4IfRtS4Ghf1UyZsoWrIwOii8Uw\n"
     ]
    }
   ],
   "source": [
    "url_root = \"https://cpd-cpd-instance.itzroks-3100014h3v-ic7zpa-6ccd7f378ae819553d37d5f2ee142bd6-0000.eu-de.containers.appdomain.cloud\"\n",
    "url = url_root + \"/icp4d-api/v1/authorize\"\n",
    "# main instance url root = \"https://cpd-cpd-instance.itzroks-3100014h3v-ic7zpa-6ccd7f378ae819553d37d5f2ee142bd6-0000.eu-de.containers.appdomain.cloud\"\n",
    "# main instance admin passowrd = Pjv0nALHNdi7\n",
    "# main instance api key = mM7vJ291x4dio33XJTEUrOdC75YyfCs1qQIuuNnT\n",
    "# backup instance url_root = \"https://cpd-cpd-instance.itzroks-550004bv07-fqwajf-6ccd7f378ae819553d37d5f2ee142bd6-0000.us-east.containers.appdomain.cloud\"\n",
    "# backup instance admin password = qssGRYe70R0k\n",
    "# backup instance api key = AHbA7Etic2cA1huSVt6VPLJVulf86dZvc7xtbheV\n",
    "\n",
    "#Insert CPD login credentials for USERNAME and PASSWORD\n",
    "payload = \"{\\n\\t\\\"username\\\":\\\"admin\\\",\\n\\t\\\"api_key\\\":\\\"mM7vJ291x4dio33XJTEUrOdC75YyfCs1qQIuuNnT\\\"\\n}\"\n",
    "headers = {\n",
    "  'Content-Type': 'application/json'\n",
    "}\n",
    "response = requests.request(\"POST\", url, headers=headers, data = payload, verify= False)\n",
    "token = response.json()['token']\n",
    "print(token)"
   ]
  },
  {
   "cell_type": "markdown",
   "metadata": {
    "id": "753c4fb1-5545-4530-898e-e8188e5714da"
   },
   "source": [
    "### Identify all catalogs which the user can view"
   ]
  },
  {
   "cell_type": "code",
   "execution_count": 3,
   "metadata": {
    "id": "6f868f7b-4fbf-4568-9317-189b658222f9"
   },
   "outputs": [
    {
     "name": "stdout",
     "output_type": "stream",
     "text": [
      "{'catalogs': [{'metadata': {'guid': '0c893fab-3b31-437f-b008-65b566b07604', 'url': '/v2/catalogs/0c893fab-3b31-437f-b008-65b566b07604', 'creator_id': '1000331001', 'create_time': '2022-06-23T18:30:14Z'}, 'entity': {'name': 'Discover Governance Catalog', 'description': 'This catalog is synced with the Information Assets view. ', 'generator': 'Catalog-OMRS-Synced', 'bss_account_id': '999', 'capacity_limit': 0, 'is_governed': True, 'auto_profiling': True}, 'href': '/v2/catalogs/0c893fab-3b31-437f-b008-65b566b07604'}, {'metadata': {'guid': 'ee11f345-5835-45ee-9811-9d6ea8340809', 'url': '/v2/catalogs/ee11f345-5835-45ee-9811-9d6ea8340809', 'creator_id': '1000330999', 'create_time': '2022-06-11T01:59:58Z'}, 'entity': {'name': 'Platform assets catalog', 'description': 'The catalog where all platform users can share assets and connections.', 'generator': 'wkc post install', 'bss_account_id': '999', 'capacity_limit': 0, 'is_governed': False, 'auto_profiling': False, 'uid': 'ibm-global-catalog'}, 'href': '/v2/catalogs/ee11f345-5835-45ee-9811-9d6ea8340809'}], 'nextBookmark': 'g1AAAADHeJzLYWBgYMpgTmFwSM4vTc5ISXIoTynQhbJ1DfSQeHrJBSm6mXnFJYl5yal6xWXJesk5pcUlqUV6OfnJiTk5IJMSGZLk____n5XB5GZ_lTmzASiWyEw945MSgGRSPcyGS9cZHUA2MGQBACD3Q44', 'nextSkip': 0}\n"
     ]
    }
   ],
   "source": [
    "url = url_root + \"/v2/catalogs\"\n",
    "payload = {}\n",
    "headers = {\n",
    "  'Authorization': 'Bearer '+ token}\n",
    "response = requests.request(\"GET\", url, headers=headers, data = payload, verify = False)\n",
    "catalogs = response.json()\n",
    "print(catalogs)"
   ]
  },
  {
   "cell_type": "markdown",
   "metadata": {
    "id": "f282b3ff9f544e71aa4193bee1d5a367"
   },
   "source": [
    "### Store catalog names and IDs."
   ]
  },
  {
   "cell_type": "code",
   "execution_count": 4,
   "metadata": {
    "id": "403efedb-a877-404c-8f3f-9a02288c7e6b"
   },
   "outputs": [],
   "source": [
    "catalog_ids = []\n",
    "for i in range(0, len(catalogs['catalogs'])):\n",
    "    catalog_ids.append(catalogs['catalogs'][i]['metadata'].get('guid'))"
   ]
  },
  {
   "cell_type": "code",
   "execution_count": 5,
   "metadata": {
    "id": "92f9a8d2-0aab-4f05-a818-7a4895e745d5"
   },
   "outputs": [
    {
     "name": "stdout",
     "output_type": "stream",
     "text": [
      "['Discover Governance Catalog', 'Platform assets catalog']\n"
     ]
    }
   ],
   "source": [
    "catalog_names = []\n",
    "for i in range(0, len(catalogs['catalogs'])):\n",
    "    catalog_names.append(catalogs['catalogs'][i]['entity'].get('name'))\n",
    "print(catalog_names)"
   ]
  },
  {
   "cell_type": "markdown",
   "metadata": {
    "id": "cf8758e5-d740-4d65-b2e9-663c3eef51e2"
   },
   "source": [
    "### View available catalogs for the User"
   ]
  },
  {
   "cell_type": "code",
   "execution_count": 6,
   "metadata": {
    "id": "5501d2e8-9df5-404a-a97b-2f0a0502aea2"
   },
   "outputs": [
    {
     "data": {
      "text/plain": [
       "{'0c893fab-3b31-437f-b008-65b566b07604': 'Discover Governance Catalog',\n",
       " 'ee11f345-5835-45ee-9811-9d6ea8340809': 'Platform assets catalog'}"
      ]
     },
     "execution_count": 6,
     "metadata": {},
     "output_type": "execute_result"
    }
   ],
   "source": [
    "catalog_dict = {catalog_ids[i]: catalog_names[i] for i in range(len(catalog_ids))}\n",
    "catalog_dict"
   ]
  },
  {
   "cell_type": "markdown",
   "metadata": {
    "id": "da7233ae-702c-4c6a-afb9-ef89358f66b0"
   },
   "source": [
    "### Now, we will begin to extract information from assets within WKC using a series of iterations to populate our metadata dictionary"
   ]
  },
  {
   "cell_type": "code",
   "execution_count": 7,
   "metadata": {
    "id": "cfbef8e4-dafd-4ea7-855e-24687a1f4a94"
   },
   "outputs": [],
   "source": [
    "#Empty dictionary structure for storing necessary information\n",
    "metadata = {'Name':[], 'Owner ID':[],'Asset ID' : [],'Catalog':[], 'Catalog ID' : []}"
   ]
  },
  {
   "cell_type": "markdown",
   "metadata": {
    "id": "3dd09caf-cd98-4d38-be19-2f175e36a589"
   },
   "source": [
    "#### Iteration A: \n",
    "\n",
    "For each Catalog that the User can view/see:\n",
    "- Get general information about the assets within each Catalog\n",
    "- Add results to the `metadata` dictionary"
   ]
  },
  {
   "cell_type": "code",
   "execution_count": 8,
   "metadata": {
    "id": "cfbef8e4-dafd-4ea7-855e-24687a1f4a94"
   },
   "outputs": [],
   "source": [
    "for catalog in catalog_dict:\n",
    "    catalog_id = catalog\n",
    "    catalog_name = catalog_dict.get(catalog)\n",
    "    url = url_root + \"/v2/asset_types/data_asset/search?catalog_id=\" + catalog_id\n",
    "    payload = \"{\\n    \\\"query\\\":\\\"*:*\\\"\\n}\"\n",
    "    headers = {'Authorization': 'Bearer '+ token,\n",
    "    'Content-Type': 'application/json'}\n",
    "    response = requests.request(\"POST\", url, headers=headers, data = payload, verify = False)\n",
    "    catalog_assets = response.json()\n",
    "    for i in range(0, len (catalog_assets['results'])):\n",
    "        if catalog_assets['results'][i]['metadata'].get('asset_type') == 'data_asset':\n",
    "            metadata['Name'].append(catalog_assets['results'][i]['metadata'].get('name'))\n",
    "            metadata['Owner ID'].append(catalog_assets['results'][i]['metadata'].get('owner_id'))\n",
    "            metadata['Asset ID'].append(catalog_assets['results'][i]['metadata'].get('asset_id'))\n",
    "            metadata['Catalog'].append(catalog_name)\n",
    "            metadata['Catalog ID'].append(catalog_id)\n",
    "        else:\n",
    "            pass"
   ]
  },
  {
   "cell_type": "markdown",
   "metadata": {
    "id": "c273185a-6d93-4c04-938f-3e0b9a1811f1"
   },
   "source": [
    "### So far, we've gathered the information to show all data assets (types) which the User can see in WKC and saved it as a dataframe"
   ]
  },
  {
   "cell_type": "code",
   "execution_count": 9,
   "metadata": {
    "id": "053efb16-ac46-4626-b210-f1f1fb039e3c"
   },
   "outputs": [
    {
     "data": {
      "text/html": [
       "<div>\n",
       "<style scoped>\n",
       "    .dataframe tbody tr th:only-of-type {\n",
       "        vertical-align: middle;\n",
       "    }\n",
       "\n",
       "    .dataframe tbody tr th {\n",
       "        vertical-align: top;\n",
       "    }\n",
       "\n",
       "    .dataframe thead th {\n",
       "        text-align: right;\n",
       "    }\n",
       "</style>\n",
       "<table border=\"1\" class=\"dataframe\">\n",
       "  <thead>\n",
       "    <tr style=\"text-align: right;\">\n",
       "      <th></th>\n",
       "      <th>Name</th>\n",
       "      <th>Owner ID</th>\n",
       "      <th>Asset ID</th>\n",
       "      <th>Catalog</th>\n",
       "      <th>Catalog ID</th>\n",
       "    </tr>\n",
       "  </thead>\n",
       "  <tbody>\n",
       "    <tr>\n",
       "      <th>0</th>\n",
       "      <td>CONTROLDEP</td>\n",
       "      <td>1000331016</td>\n",
       "      <td>60e576a7-b9e3-468d-8a09-a743d940959d</td>\n",
       "      <td>Discover Governance Catalog</td>\n",
       "      <td>0c893fab-3b31-437f-b008-65b566b07604</td>\n",
       "    </tr>\n",
       "    <tr>\n",
       "      <th>1</th>\n",
       "      <td>STATEMENTTEXTS</td>\n",
       "      <td>1000331016</td>\n",
       "      <td>ad562d63-1681-4bc5-9137-8580b5448d7d</td>\n",
       "      <td>Discover Governance Catalog</td>\n",
       "      <td>0c893fab-3b31-437f-b008-65b566b07604</td>\n",
       "    </tr>\n",
       "    <tr>\n",
       "      <th>2</th>\n",
       "      <td>ROUTINESFEDERATED</td>\n",
       "      <td>1000331016</td>\n",
       "      <td>941d4a30-a8f2-4571-b90d-d7cadde9d5fc</td>\n",
       "      <td>Discover Governance Catalog</td>\n",
       "      <td>0c893fab-3b31-437f-b008-65b566b07604</td>\n",
       "    </tr>\n",
       "    <tr>\n",
       "      <th>3</th>\n",
       "      <td>ROUTINEPARMOPTIONS</td>\n",
       "      <td>1000331016</td>\n",
       "      <td>3eaf485b-68d7-4166-a8f4-240fb118b53d</td>\n",
       "      <td>Discover Governance Catalog</td>\n",
       "      <td>0c893fab-3b31-437f-b008-65b566b07604</td>\n",
       "    </tr>\n",
       "    <tr>\n",
       "      <th>4</th>\n",
       "      <td>WRAPOPTIONS</td>\n",
       "      <td>1000331016</td>\n",
       "      <td>0ae3596f-d15f-4692-beca-d76d44c2ee1f</td>\n",
       "      <td>Discover Governance Catalog</td>\n",
       "      <td>0c893fab-3b31-437f-b008-65b566b07604</td>\n",
       "    </tr>\n",
       "    <tr>\n",
       "      <th>...</th>\n",
       "      <td>...</td>\n",
       "      <td>...</td>\n",
       "      <td>...</td>\n",
       "      <td>...</td>\n",
       "      <td>...</td>\n",
       "    </tr>\n",
       "    <tr>\n",
       "      <th>195</th>\n",
       "      <td>EXPLAIN_DIAGNOSTIC_DATA</td>\n",
       "      <td>1000331016</td>\n",
       "      <td>17e95821-7d31-4d76-910f-5613879d1d3f</td>\n",
       "      <td>Discover Governance Catalog</td>\n",
       "      <td>0c893fab-3b31-437f-b008-65b566b07604</td>\n",
       "    </tr>\n",
       "    <tr>\n",
       "      <th>196</th>\n",
       "      <td>CUSTOMER_ATTRITION</td>\n",
       "      <td>1000331016</td>\n",
       "      <td>5e8d533b-f21d-46a0-b9a7-6ee0e891119a</td>\n",
       "      <td>Discover Governance Catalog</td>\n",
       "      <td>0c893fab-3b31-437f-b008-65b566b07604</td>\n",
       "    </tr>\n",
       "    <tr>\n",
       "      <th>197</th>\n",
       "      <td>SECURITYPOLICIES</td>\n",
       "      <td>1000331016</td>\n",
       "      <td>b15014b0-bcf2-4d3f-900c-1a31deccc761</td>\n",
       "      <td>Discover Governance Catalog</td>\n",
       "      <td>0c893fab-3b31-437f-b008-65b566b07604</td>\n",
       "    </tr>\n",
       "    <tr>\n",
       "      <th>198</th>\n",
       "      <td>TABCONST</td>\n",
       "      <td>1000331016</td>\n",
       "      <td>a13e99f3-9334-425f-8481-9f24a743d13e</td>\n",
       "      <td>Discover Governance Catalog</td>\n",
       "      <td>0c893fab-3b31-437f-b008-65b566b07604</td>\n",
       "    </tr>\n",
       "    <tr>\n",
       "      <th>199</th>\n",
       "      <td>KEYCOLUSE</td>\n",
       "      <td>1000331016</td>\n",
       "      <td>2b1ffc6e-6a98-4879-a211-10a110f4f12e</td>\n",
       "      <td>Discover Governance Catalog</td>\n",
       "      <td>0c893fab-3b31-437f-b008-65b566b07604</td>\n",
       "    </tr>\n",
       "  </tbody>\n",
       "</table>\n",
       "<p>200 rows × 5 columns</p>\n",
       "</div>"
      ],
      "text/plain": [
       "                        Name    Owner ID  \\\n",
       "0                 CONTROLDEP  1000331016   \n",
       "1             STATEMENTTEXTS  1000331016   \n",
       "2          ROUTINESFEDERATED  1000331016   \n",
       "3         ROUTINEPARMOPTIONS  1000331016   \n",
       "4                WRAPOPTIONS  1000331016   \n",
       "..                       ...         ...   \n",
       "195  EXPLAIN_DIAGNOSTIC_DATA  1000331016   \n",
       "196       CUSTOMER_ATTRITION  1000331016   \n",
       "197         SECURITYPOLICIES  1000331016   \n",
       "198                 TABCONST  1000331016   \n",
       "199                KEYCOLUSE  1000331016   \n",
       "\n",
       "                                 Asset ID                      Catalog  \\\n",
       "0    60e576a7-b9e3-468d-8a09-a743d940959d  Discover Governance Catalog   \n",
       "1    ad562d63-1681-4bc5-9137-8580b5448d7d  Discover Governance Catalog   \n",
       "2    941d4a30-a8f2-4571-b90d-d7cadde9d5fc  Discover Governance Catalog   \n",
       "3    3eaf485b-68d7-4166-a8f4-240fb118b53d  Discover Governance Catalog   \n",
       "4    0ae3596f-d15f-4692-beca-d76d44c2ee1f  Discover Governance Catalog   \n",
       "..                                    ...                          ...   \n",
       "195  17e95821-7d31-4d76-910f-5613879d1d3f  Discover Governance Catalog   \n",
       "196  5e8d533b-f21d-46a0-b9a7-6ee0e891119a  Discover Governance Catalog   \n",
       "197  b15014b0-bcf2-4d3f-900c-1a31deccc761  Discover Governance Catalog   \n",
       "198  a13e99f3-9334-425f-8481-9f24a743d13e  Discover Governance Catalog   \n",
       "199  2b1ffc6e-6a98-4879-a211-10a110f4f12e  Discover Governance Catalog   \n",
       "\n",
       "                               Catalog ID  \n",
       "0    0c893fab-3b31-437f-b008-65b566b07604  \n",
       "1    0c893fab-3b31-437f-b008-65b566b07604  \n",
       "2    0c893fab-3b31-437f-b008-65b566b07604  \n",
       "3    0c893fab-3b31-437f-b008-65b566b07604  \n",
       "4    0c893fab-3b31-437f-b008-65b566b07604  \n",
       "..                                    ...  \n",
       "195  0c893fab-3b31-437f-b008-65b566b07604  \n",
       "196  0c893fab-3b31-437f-b008-65b566b07604  \n",
       "197  0c893fab-3b31-437f-b008-65b566b07604  \n",
       "198  0c893fab-3b31-437f-b008-65b566b07604  \n",
       "199  0c893fab-3b31-437f-b008-65b566b07604  \n",
       "\n",
       "[200 rows x 5 columns]"
      ]
     },
     "execution_count": 9,
     "metadata": {},
     "output_type": "execute_result"
    }
   ],
   "source": [
    "metadata_df = pd.DataFrame(metadata)\n",
    "metadata_df"
   ]
  },
  {
   "cell_type": "markdown",
   "metadata": {
    "id": "579c6ca8-7925-424f-bcbf-6da2f91c5561"
   },
   "source": [
    "### Next, we want to store necessary asset information"
   ]
  },
  {
   "cell_type": "code",
   "execution_count": 12,
   "metadata": {
    "id": "41391497-6ab2-49c2-be60-61c33f51f3c0"
   },
   "outputs": [],
   "source": [
    "# #Empty dictionary structure for storing necessary information\n",
    "asset_data = {'Name':[],'Members':[], 'Owner ID':[],'Asset ID' : [], 'Catalog ID' : [], 'Catalog Name':[],'Description':[],'Tags':[]}\n",
    "# #Empty dictionary strucutre for storing assets that errored when attempting to read the assets information\n",
    "error_data = {'Asset ID' : [], 'Catalog ID' : [], 'Catalog Name':[]}"
   ]
  },
  {
   "cell_type": "markdown",
   "metadata": {
    "id": "fd9cd140-7bac-48da-8cf1-5434f20c90c2"
   },
   "source": [
    "#### Iteration B: \n",
    "\n",
    "For each asset in each catalog:\n",
    "- Get details about the asset and add results to a dictionary"
   ]
  },
  {
   "cell_type": "code",
   "execution_count": 13,
   "metadata": {
    "id": "41391497-6ab2-49c2-be60-61c33f51f3c0"
   },
   "outputs": [],
   "source": [
    "for asset_id,catalog_id,catalog_name in zip(metadata_df['Asset ID'],metadata_df['Catalog ID'],metadata_df['Catalog']):\n",
    "    url = url_root + \"/v2/assets/\" + str(asset_id) + \"/?catalog_id=\" + str(catalog_id)\n",
    "    payload = \"{\\n    \\\"query\\\":\\\"*:*\\\"\\n}\"\n",
    "    headers = {'Authorization': 'Bearer '+ token,\n",
    "    'Content-Type': 'application/json'}\n",
    "    response = requests.request(\"GET\", url, headers=headers, data = payload, verify = False)\n",
    "    asset_info = response.json()\n",
    "    try: #Setting variables\n",
    "        asset_data['Members'].append(asset_info['metadata']['rov']['collaborator_ids'])\n",
    "        asset_data['Owner ID'].append(asset_info['metadata']['owner_id'])\n",
    "        asset_data['Name'].append(asset_info['metadata']['name'])\n",
    "        asset_data['Asset ID'].append(asset_info['metadata']['asset_id'])\n",
    "        asset_data['Catalog ID'].append(asset_info['metadata']['catalog_id'])\n",
    "        asset_data['Description'].append(asset_info['metadata']['description'])\n",
    "        asset_data['Tags'].append(asset_info['metadata']['tags'])\n",
    "        asset_data['Catalog Name'].append(catalog_name)\n",
    "    except KeyError as err:\n",
    "        if err.args[0] == 'metadata':\n",
    "        #Add information to an error holding dictionary\n",
    "            error_data['Asset ID'].append(asset_id)\n",
    "            error_data['Catalog ID'].append(catalog_id)\n",
    "            error_data['Catalog Name'].append(catalog_name)\n",
    "        else:\n",
    "            print(err)"
   ]
  },
  {
   "cell_type": "markdown",
   "metadata": {
    "id": "d50c19da-8fcf-4e8e-b8a3-28f45e0725ae"
   },
   "source": [
    "Turn information into a Dataframe and identify assets where the User is a member"
   ]
  },
  {
   "cell_type": "code",
   "execution_count": 14,
   "metadata": {
    "id": "cc0ebd2e-17ed-47db-8c58-66128c0f25f2"
   },
   "outputs": [],
   "source": [
    "master_info_df = pd.DataFrame(asset_data)"
   ]
  },
  {
   "cell_type": "markdown",
   "metadata": {
    "id": "c75ae573d3d9494c89e8ddc096ef414d"
   },
   "source": [
    "### Fin"
   ]
  },
  {
   "cell_type": "code",
   "execution_count": 15,
   "metadata": {
    "id": "291a58db1c564092855081aa8aa63713"
   },
   "outputs": [
    {
     "data": {
      "text/html": [
       "<div>\n",
       "<style scoped>\n",
       "    .dataframe tbody tr th:only-of-type {\n",
       "        vertical-align: middle;\n",
       "    }\n",
       "\n",
       "    .dataframe tbody tr th {\n",
       "        vertical-align: top;\n",
       "    }\n",
       "\n",
       "    .dataframe thead th {\n",
       "        text-align: right;\n",
       "    }\n",
       "</style>\n",
       "<table border=\"1\" class=\"dataframe\">\n",
       "  <thead>\n",
       "    <tr style=\"text-align: right;\">\n",
       "      <th></th>\n",
       "      <th>Name</th>\n",
       "      <th>Members</th>\n",
       "      <th>Owner ID</th>\n",
       "      <th>Asset ID</th>\n",
       "      <th>Catalog ID</th>\n",
       "      <th>Catalog Name</th>\n",
       "      <th>Description</th>\n",
       "      <th>Tags</th>\n",
       "    </tr>\n",
       "  </thead>\n",
       "  <tbody>\n",
       "    <tr>\n",
       "      <th>0</th>\n",
       "      <td>CONTROLDEP</td>\n",
       "      <td>{}</td>\n",
       "      <td>1000331016</td>\n",
       "      <td>60e576a7-b9e3-468d-8a09-a743d940959d</td>\n",
       "      <td>0c893fab-3b31-437f-b008-65b566b07604</td>\n",
       "      <td>Discover Governance Catalog</td>\n",
       "      <td></td>\n",
       "      <td>[info_asset, SYSCAT]</td>\n",
       "    </tr>\n",
       "    <tr>\n",
       "      <th>1</th>\n",
       "      <td>INDEXES</td>\n",
       "      <td>{}</td>\n",
       "      <td>1000331016</td>\n",
       "      <td>ca1d265e-9f71-4311-b309-3c5e4fed8f6f</td>\n",
       "      <td>0c893fab-3b31-437f-b008-65b566b07604</td>\n",
       "      <td>Discover Governance Catalog</td>\n",
       "      <td></td>\n",
       "      <td>[info_asset, SYSCAT]</td>\n",
       "    </tr>\n",
       "    <tr>\n",
       "      <th>2</th>\n",
       "      <td>PACKAGES</td>\n",
       "      <td>{}</td>\n",
       "      <td>1000331016</td>\n",
       "      <td>652cad1c-1bbd-4424-9c81-c58a8ec54445</td>\n",
       "      <td>0c893fab-3b31-437f-b008-65b566b07604</td>\n",
       "      <td>Discover Governance Catalog</td>\n",
       "      <td></td>\n",
       "      <td>[info_asset, SYSCAT]</td>\n",
       "    </tr>\n",
       "    <tr>\n",
       "      <th>3</th>\n",
       "      <td>ROUTINEPARMS</td>\n",
       "      <td>{}</td>\n",
       "      <td>1000331016</td>\n",
       "      <td>4b607641-9b79-4656-81a1-6b3fa340555b</td>\n",
       "      <td>0c893fab-3b31-437f-b008-65b566b07604</td>\n",
       "      <td>Discover Governance Catalog</td>\n",
       "      <td></td>\n",
       "      <td>[info_asset, SYSCAT]</td>\n",
       "    </tr>\n",
       "    <tr>\n",
       "      <th>4</th>\n",
       "      <td>SYSDUMMY1</td>\n",
       "      <td>{}</td>\n",
       "      <td>1000331016</td>\n",
       "      <td>43494b3b-d89f-467d-a0ae-1ceafcb6e751</td>\n",
       "      <td>0c893fab-3b31-437f-b008-65b566b07604</td>\n",
       "      <td>Discover Governance Catalog</td>\n",
       "      <td></td>\n",
       "      <td>[info_asset, SYSIBM]</td>\n",
       "    </tr>\n",
       "    <tr>\n",
       "      <th>...</th>\n",
       "      <td>...</td>\n",
       "      <td>...</td>\n",
       "      <td>...</td>\n",
       "      <td>...</td>\n",
       "      <td>...</td>\n",
       "      <td>...</td>\n",
       "      <td>...</td>\n",
       "      <td>...</td>\n",
       "    </tr>\n",
       "    <tr>\n",
       "      <th>71</th>\n",
       "      <td>MON_TRANSACTION_LOG_UTILIZATION</td>\n",
       "      <td>{}</td>\n",
       "      <td>1000331016</td>\n",
       "      <td>4087bc75-46f1-445a-a39d-5eeaab17a278</td>\n",
       "      <td>0c893fab-3b31-437f-b008-65b566b07604</td>\n",
       "      <td>Discover Governance Catalog</td>\n",
       "      <td></td>\n",
       "      <td>[info_asset, SYSIBMADM]</td>\n",
       "    </tr>\n",
       "    <tr>\n",
       "      <th>72</th>\n",
       "      <td>COLUMNS</td>\n",
       "      <td>{}</td>\n",
       "      <td>1000331016</td>\n",
       "      <td>b2f526f8-becc-4cb4-a4f5-0b4633ec88c7</td>\n",
       "      <td>0c893fab-3b31-437f-b008-65b566b07604</td>\n",
       "      <td>Discover Governance Catalog</td>\n",
       "      <td></td>\n",
       "      <td>[info_asset, SYSSTAT]</td>\n",
       "    </tr>\n",
       "    <tr>\n",
       "      <th>73</th>\n",
       "      <td>CUSTOMER_ATTRITION</td>\n",
       "      <td>{}</td>\n",
       "      <td>1000331016</td>\n",
       "      <td>5e8d533b-f21d-46a0-b9a7-6ee0e891119a</td>\n",
       "      <td>0c893fab-3b31-437f-b008-65b566b07604</td>\n",
       "      <td>Discover Governance Catalog</td>\n",
       "      <td></td>\n",
       "      <td>[info_asset, TJG31220]</td>\n",
       "    </tr>\n",
       "    <tr>\n",
       "      <th>74</th>\n",
       "      <td>TABCONST</td>\n",
       "      <td>{}</td>\n",
       "      <td>1000331016</td>\n",
       "      <td>a13e99f3-9334-425f-8481-9f24a743d13e</td>\n",
       "      <td>0c893fab-3b31-437f-b008-65b566b07604</td>\n",
       "      <td>Discover Governance Catalog</td>\n",
       "      <td></td>\n",
       "      <td>[info_asset, SYSCAT]</td>\n",
       "    </tr>\n",
       "    <tr>\n",
       "      <th>75</th>\n",
       "      <td>KEYCOLUSE</td>\n",
       "      <td>{}</td>\n",
       "      <td>1000331016</td>\n",
       "      <td>2b1ffc6e-6a98-4879-a211-10a110f4f12e</td>\n",
       "      <td>0c893fab-3b31-437f-b008-65b566b07604</td>\n",
       "      <td>Discover Governance Catalog</td>\n",
       "      <td></td>\n",
       "      <td>[info_asset, SYSCAT]</td>\n",
       "    </tr>\n",
       "  </tbody>\n",
       "</table>\n",
       "<p>76 rows × 8 columns</p>\n",
       "</div>"
      ],
      "text/plain": [
       "                               Name Members    Owner ID  \\\n",
       "0                        CONTROLDEP      {}  1000331016   \n",
       "1                           INDEXES      {}  1000331016   \n",
       "2                          PACKAGES      {}  1000331016   \n",
       "3                      ROUTINEPARMS      {}  1000331016   \n",
       "4                         SYSDUMMY1      {}  1000331016   \n",
       "..                              ...     ...         ...   \n",
       "71  MON_TRANSACTION_LOG_UTILIZATION      {}  1000331016   \n",
       "72                          COLUMNS      {}  1000331016   \n",
       "73               CUSTOMER_ATTRITION      {}  1000331016   \n",
       "74                         TABCONST      {}  1000331016   \n",
       "75                        KEYCOLUSE      {}  1000331016   \n",
       "\n",
       "                                Asset ID  \\\n",
       "0   60e576a7-b9e3-468d-8a09-a743d940959d   \n",
       "1   ca1d265e-9f71-4311-b309-3c5e4fed8f6f   \n",
       "2   652cad1c-1bbd-4424-9c81-c58a8ec54445   \n",
       "3   4b607641-9b79-4656-81a1-6b3fa340555b   \n",
       "4   43494b3b-d89f-467d-a0ae-1ceafcb6e751   \n",
       "..                                   ...   \n",
       "71  4087bc75-46f1-445a-a39d-5eeaab17a278   \n",
       "72  b2f526f8-becc-4cb4-a4f5-0b4633ec88c7   \n",
       "73  5e8d533b-f21d-46a0-b9a7-6ee0e891119a   \n",
       "74  a13e99f3-9334-425f-8481-9f24a743d13e   \n",
       "75  2b1ffc6e-6a98-4879-a211-10a110f4f12e   \n",
       "\n",
       "                              Catalog ID                 Catalog Name  \\\n",
       "0   0c893fab-3b31-437f-b008-65b566b07604  Discover Governance Catalog   \n",
       "1   0c893fab-3b31-437f-b008-65b566b07604  Discover Governance Catalog   \n",
       "2   0c893fab-3b31-437f-b008-65b566b07604  Discover Governance Catalog   \n",
       "3   0c893fab-3b31-437f-b008-65b566b07604  Discover Governance Catalog   \n",
       "4   0c893fab-3b31-437f-b008-65b566b07604  Discover Governance Catalog   \n",
       "..                                   ...                          ...   \n",
       "71  0c893fab-3b31-437f-b008-65b566b07604  Discover Governance Catalog   \n",
       "72  0c893fab-3b31-437f-b008-65b566b07604  Discover Governance Catalog   \n",
       "73  0c893fab-3b31-437f-b008-65b566b07604  Discover Governance Catalog   \n",
       "74  0c893fab-3b31-437f-b008-65b566b07604  Discover Governance Catalog   \n",
       "75  0c893fab-3b31-437f-b008-65b566b07604  Discover Governance Catalog   \n",
       "\n",
       "   Description                     Tags  \n",
       "0                  [info_asset, SYSCAT]  \n",
       "1                  [info_asset, SYSCAT]  \n",
       "2                  [info_asset, SYSCAT]  \n",
       "3                  [info_asset, SYSCAT]  \n",
       "4                  [info_asset, SYSIBM]  \n",
       "..         ...                      ...  \n",
       "71              [info_asset, SYSIBMADM]  \n",
       "72                [info_asset, SYSSTAT]  \n",
       "73               [info_asset, TJG31220]  \n",
       "74                 [info_asset, SYSCAT]  \n",
       "75                 [info_asset, SYSCAT]  \n",
       "\n",
       "[76 rows x 8 columns]"
      ]
     },
     "execution_count": 15,
     "metadata": {},
     "output_type": "execute_result"
    }
   ],
   "source": [
    "master_info_df"
   ]
  },
  {
   "cell_type": "markdown",
   "metadata": {
    "id": "80e0de7d2ece4da2a4ca445bb15050bd"
   },
   "source": [
    "### List of assets that were unable to be read due to non-completion of data profiling (according to error message)"
   ]
  },
  {
   "cell_type": "code",
   "execution_count": null,
   "metadata": {
    "id": "e4d1a33ba9e142bb996ae300e32b5f11",
    "scrolled": true
   },
   "outputs": [],
   "source": [
    "# error_frame = pd.DataFrame(error_data)\n",
    "# new_meta = pd.DataFrame(metadata)\n",
    "# new_meta = new_meta[new_meta.loc[:,'Asset ID'].isin(error_frame.loc[:,'Asset ID'])]\n",
    "# new_meta"
   ]
  },
  {
   "cell_type": "markdown",
   "metadata": {
    "id": "0f82b7ea-0ec5-4f4b-b9a6-dadcbd4a992c"
   },
   "source": [
    "#### At this point, we know general information about the assets"
   ]
  },
  {
   "cell_type": "code",
   "execution_count": null,
   "metadata": {},
   "outputs": [],
   "source": [
    "## Get all users\n",
    "\n",
    "url = url_root + \"/icp4d-api/v1/users\"\n",
    "\n",
    "headers = {\n",
    "    'Authorization': 'Bearer ' + token,\n",
    "    'cache-control': 'no-cache'\n",
    "}\n",
    "\n",
    "response = requests.request(\"GET\", url, headers=headers, verify=False)\n",
    "users = response.json()\n",
    "\n",
    "user_data = {'User Email':[], 'User ID':[]}\n",
    "\n",
    "for i in range(0, len(users['UsersInfo'])):\n",
    "    user_data['User Email'].append(users['UsersInfo'][i].get('email'))\n",
    "    user_data['User ID'].append(users['UsersInfo'][i].get('uid'))\n",
    "    \n",
    "user_data_df = pd.DataFrame(user_data)\n",
    "user_data_df\n"
   ]
  },
  {
   "cell_type": "code",
   "execution_count": null,
   "metadata": {
    "scrolled": false,
    "tags": []
   },
   "outputs": [],
   "source": [
    "## Update the owner of an asset\n",
    "\n",
    "owners = pd.read_csv('assetOwners.csv')\n",
    "owners_df = pd.DataFrame(owners)\n",
    "owners_df\n",
    "\n",
    "for i in range(0, len(owners_df)):\n",
    "    assetName = owners_df['Asset Title'][i]\n",
    "    assetId = owners_df['Asset ID'][i]\n",
    "    owner = owners_df['Owner Email'][i]\n",
    "    owner_id = user_data_df[user_data_df['User Email']==owner].iat[0,1]\n",
    "    asset_id = master_info_df[master_info_df['Asset ID']==assetId].iat[0,2]\n",
    "    catalog_id = master_info_df[master_info_df['Asset ID']==assetId].iat[0,4]\n",
    "    \n",
    "    url = url_root + \"/v2/assets/\" + asset_id + \"/owner?catalog_id=\" + catalog_id\n",
    "\n",
    "    payload = json.dumps({\n",
    "        'owner': owner,\n",
    "        'owner_id': owner_id,\n",
    "    })\n",
    "    \n",
    "    headers = {\n",
    "      'Content-Type': 'application/json',\n",
    "      'Accept': 'application/json',\n",
    "      'Authorization': 'Bearer ' + token\n",
    "    }\n",
    "\n",
    "    response = requests.request(\"PUT\", url, headers=headers, data=payload, verify=False)\n",
    "\n",
    "    url = url_root + \"/v2/assets/\" + asset_id + \"?catalog_id=\" + catalog_id\n",
    "    \n",
    "    payload = json.dumps([{\n",
    "        'op': 'add',\n",
    "        'path': '/metadata/tags/-',\n",
    "        'value': owner\n",
    "    }])\n",
    "    \n",
    "    headers = {\n",
    "      'Content-Type': 'application/json-patch+json',\n",
    "      'Authorization': 'Bearer ' + token\n",
    "    }\n",
    "\n",
    "    response = requests.request(\"PATCH\", url, headers=headers, data=payload, verify=False)\n",
    "    print(response.json())\n",
    "    "
   ]
  },
  {
   "cell_type": "markdown",
   "metadata": {
    "id": "92f62f00-b8f4-45f6-bf4d-d194fef8deb5"
   },
   "source": [
    "## Save complete Data Dictionary Information to a CSV"
   ]
  },
  {
   "cell_type": "code",
   "execution_count": null,
   "metadata": {
    "id": "4ca7e263-ddbf-490e-9c61-9072d36150be",
    "scrolled": true
   },
   "outputs": [],
   "source": [
    "# project.save_data('Detailed External Asset.csv', master_info_df.to_csv(index=False),overwrite=True)"
   ]
  },
  {
   "cell_type": "code",
   "execution_count": null,
   "metadata": {},
   "outputs": [],
   "source": []
  }
 ],
 "metadata": {
  "kernelspec": {
   "display_name": "Python 3 (ipykernel)",
   "language": "python",
   "name": "python3"
  },
  "language_info": {
   "codemirror_mode": {
    "name": "ipython",
    "version": 3
   },
   "file_extension": ".py",
   "mimetype": "text/x-python",
   "name": "python",
   "nbconvert_exporter": "python",
   "pygments_lexer": "ipython3",
   "version": "3.9.13"
  }
 },
 "nbformat": 4,
 "nbformat_minor": 4
}
